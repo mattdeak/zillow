{
 "cells": [
  {
   "cell_type": "code",
   "execution_count": 1,
   "metadata": {},
   "outputs": [
    {
     "name": "stderr",
     "output_type": "stream",
     "text": [
      "Using TensorFlow backend.\n"
     ]
    }
   ],
   "source": [
    "import numpy as np\n",
    "import pandas as pd\n",
    "import keras\n",
    "from sklearn.preprocessing import StandardScaler"
   ]
  },
  {
   "cell_type": "code",
   "execution_count": 2,
   "metadata": {},
   "outputs": [
    {
     "name": "stderr",
     "output_type": "stream",
     "text": [
      "/home/matthew/.local/lib/python3.5/site-packages/IPython/core/interactiveshell.py:2698: DtypeWarning: Columns (23,33,35) have mixed types. Specify dtype option on import or set low_memory=False.\n",
      "  interactivity=interactivity, compiler=compiler, result=result)\n"
     ]
    }
   ],
   "source": [
    "properties = pd.read_csv('./data/properties_modifiedV2.csv').drop('Unnamed: 0', axis=1)\n",
    "#transactions = pd.read_csv('./data/train_2016_v2.csv')"
   ]
  },
  {
   "cell_type": "markdown",
   "metadata": {},
   "source": [
    "#### Feature Cleaning\n",
    "\n",
    "This data has undergone some engineering, but we'll still need to adjust it for neural net input."
   ]
  },
  {
   "cell_type": "code",
   "execution_count": 4,
   "metadata": {},
   "outputs": [],
   "source": [
    "parcels = properties['parcelid']\n",
    "properties.drop(['propertyzoningdesc','regionidneighborhood','censustractandblock','rawcensustractandblock'], axis=1, inplace=True)"
   ]
  },
  {
   "cell_type": "code",
   "execution_count": 5,
   "metadata": {},
   "outputs": [],
   "source": [
    "id_cols = [c for c in properties.columns if 'id' in c]\n",
    "\n",
    "properties[id_cols] = properties[id_cols].apply(lambda x: x.astype('category'))\n",
    "properties['propertycountylandusecode'] = properties['propertycountylandusecode'].astype('category')\n",
    "properties['fips'] = properties['fips'].astype('category')\n",
    "properties['yearbuilt'] = properties['yearbuilt'].fillna(9999)"
   ]
  },
  {
   "cell_type": "code",
   "execution_count": null,
   "metadata": {},
   "outputs": [
    {
     "name": "stderr",
     "output_type": "stream",
     "text": [
      "/usr/local/lib/python3.5/dist-packages/pandas/core/frame.py:2440: SettingWithCopyWarning: \n",
      "A value is trying to be set on a copy of a slice from a DataFrame.\n",
      "Try using .loc[row_indexer,col_indexer] = value instead\n",
      "\n",
      "See the caveats in the documentation: http://pandas.pydata.org/pandas-docs/stable/indexing.html#indexing-view-versus-copy\n",
      "  self[k1] = value[k2]\n"
     ]
    }
   ],
   "source": [
    "properties = properties.dropna(thresh=0.7*properties.shape[0], axis=1)\n",
    "\n",
    "scaler = StandardScaler()\n",
    "\n",
    "num_cols = [c for c in properties.columns if 'num' in c]\n",
    "properties[num_cols] = properties[num_cols].fillna(-1)\n",
    "\n",
    "q_cols = (properties.dtypes[properties.dtypes != 'category']).index\n",
    "properties = properties.fillna(properties.mean())\n",
    "\n",
    "properties[q_cols] = scaler.fit_transform(properties[q_cols])\n",
    "properties = pd.get_dummies(properties, dummy_na=True)\n"
   ]
  },
  {
   "cell_type": "markdown",
   "metadata": {},
   "source": [
    "We'll fill the rest of the null values with the simple mean of the data"
   ]
  },
  {
   "cell_type": "code",
   "execution_count": 77,
   "metadata": {},
   "outputs": [],
   "source": [
    "train = transactions.merge(properties, how='left', on='parcelid')"
   ]
  },
  {
   "cell_type": "code",
   "execution_count": 85,
   "metadata": {
    "collapsed": true
   },
   "outputs": [],
   "source": [
    "labels = train['logerror']\n",
    "train.drop('logerror', axis=1, inplace=True)"
   ]
  },
  {
   "cell_type": "code",
   "execution_count": null,
   "metadata": {
    "collapsed": true
   },
   "outputs": [],
   "source": []
  }
 ],
 "metadata": {
  "kernelspec": {
   "display_name": "Python 3",
   "language": "python",
   "name": "python3"
  }
 },
 "nbformat": 4,
 "nbformat_minor": 2
}
